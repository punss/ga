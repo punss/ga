{
 "cells": [
  {
   "cell_type": "code",
   "execution_count": null,
   "metadata": {},
   "outputs": [],
   "source": [
    "import numpy as np\n",
    "import random"
   ]
  },
  {
   "cell_type": "code",
   "execution_count": null,
   "metadata": {},
   "outputs": [],
   "source": [
    "#initialising fixed parameters"
   ]
  },
  {
   "cell_type": "code",
   "execution_count": null,
   "metadata": {},
   "outputs": [],
   "source": [
    "POPULATION_SIZE = 100\n",
    "NUMBER_OF_NODES = 100\n",
    "NUMBER_OF_GENERATIONS = 5000\n",
    "CROSSOVER_RATE = 0.2\n",
    "best_route = Gene(NUMBER_OF_NODES)"
   ]
  },
  {
   "cell_type": "code",
   "execution_count": null,
   "metadata": {},
   "outputs": [],
   "source": [
    "#creating class for gene objects\n",
    "#attributes are an array with the nodes followed and the fitness of this path"
   ]
  },
  {
   "cell_type": "code",
   "execution_count": null,
   "metadata": {},
   "outputs": [],
   "source": [
    "class Gene:\n",
    "    def __init__(self, length):\n",
    "        self.path = [0]\n",
    "        self.fitness = -1"
   ]
  },
  {
   "cell_type": "code",
   "execution_count": null,
   "metadata": {},
   "outputs": [],
   "source": [
    "#function to initialise map with distance data\n",
    "#numpy used to generate an array of zeros which is then changed to the values with random.random()"
   ]
  },
  {
   "cell_type": "code",
   "execution_count": null,
   "metadata": {},
   "outputs": [],
   "source": [
    "def initialise_map(N):\n",
    "    map_array = np.zeros((N, N))\n",
    "    for i in range(0, N):\n",
    "        for j in range(0, i):\n",
    "            map_array[i][j] = random.random()\n",
    "            map_array[j][i] = map_array[i][j]\n",
    "    return map_array"
   ]
  },
  {
   "cell_type": "code",
   "execution_count": null,
   "metadata": {},
   "outputs": [],
   "source": [
    "#function to create array with the nodes. Path always begins from zero but can end anywhere"
   ]
  },
  {
   "cell_type": "code",
   "execution_count": 1,
   "metadata": {},
   "outputs": [],
   "source": [
    "def create_route(N):\n",
    "    gene = Gene(N)\n",
    "    temp = np.arange(1, N)\n",
    "    np.random.shuffle(temp)\n",
    "    gene.path.extend(list(temp))\n",
    "    return gene"
   ]
  },
  {
   "cell_type": "code",
   "execution_count": null,
   "metadata": {},
   "outputs": [],
   "source": [
    "def create_init_pop(population):\n",
    "    gene_pool = []\n",
    "    for i in range(population):\n",
    "        gene_pool.append(create_route(NUMBER_OF_NODES))\n",
    "    return gene_pool"
   ]
  },
  {
   "cell_type": "code",
   "execution_count": null,
   "metadata": {},
   "outputs": [],
   "source": [
    "def calculate_fitness(gene_pool, map_array):\n",
    "    for gene in gene_pool:\n",
    "        score = 0\n",
    "        for i in range(0, len(gene.path) - 1):\n",
    "            score += map_array[gene.path[i]][gene.path[i+1]]\n",
    "        gene.fitness = score\n",
    "    gene_pool = sorted(gene_pool, key=lambda gene: gene.fitness)\n",
    "    return gene_pool"
   ]
  },
  {
   "cell_type": "code",
   "execution_count": null,
   "metadata": {},
   "outputs": [],
   "source": [
    "def selection(gene_pool):\n",
    "    gene_pool = sorted(gene_pool, key=lambda gene: gene.fitness)\n",
    "    new_pool = gene_pool[:int(CROSSOVER_RATE * POPULATION_SIZE)]\n",
    "    return new_pool"
   ]
  },
  {
   "cell_type": "code",
   "execution_count": null,
   "metadata": {},
   "outputs": [],
   "source": [
    "def crossover(gene_pool):\n",
    "    for _ in range(int((1-CROSSOVER_RATE) * POPULATION_SIZE)):\n",
    "        parentA = random.choice(gene_pool)\n",
    "        parentB = random.choice(gene_pool)\n",
    "        childA = Gene(NUMBER_OF_NODES)\n",
    "        childB = Gene(NUMBER_OF_NODES)\n",
    "\n",
    "        cut_idx = random.randint(1, NUMBER_OF_NODES-1)\n",
    "\n",
    "        remainder_path = list(np.arange(NUMBER_OF_NODES))\n",
    "        for element in parentA.path[:cut_idx]:\n",
    "            remainder_path.remove(element)\n",
    "        childA.path = parentA.path[:cut_idx] + remainder_path\n",
    "\n",
    "        remainder_path = list(np.arange(NUMBER_OF_NODES))\n",
    "        for element in parentB.path[:cut_idx]:\n",
    "            remainder_path.remove(element)\n",
    "        childB.path = parentB.path[:cut_idx] + remainder_path\n",
    "\n",
    "        gene_pool.append(childA)\n",
    "        gene_pool.append(childB)\n",
    "\n",
    "    return gene_pool"
   ]
  },
  {
   "cell_type": "code",
   "execution_count": null,
   "metadata": {},
   "outputs": [],
   "source": [
    "def mutate(gene_pool, prob):\n",
    "    for gene in gene_pool:\n",
    "        dice = random.random()\n",
    "        if dice <= prob:\n",
    "            idx = random.randint(1, NUMBER_OF_NODES-1)\n",
    "            ele = gene.path[idx]\n",
    "            new_ele = random.randint(1, NUMBER_OF_NODES-1)\n",
    "            new_idx = gene.path.index(new_ele)\n",
    "            gene.path[idx] = new_ele\n",
    "            gene.path[new_idx] = ele\n",
    "    return gene_pool"
   ]
  },
  {
   "cell_type": "code",
   "execution_count": null,
   "metadata": {},
   "outputs": [],
   "source": [
    "def check_completion(gene_pool):\n",
    "    if best_route.fitness == -1:\n",
    "        gene_pool = sorted(gene_pool, key=lambda gene: gene.fitness)\n",
    "        best_route.fitness = gene_pool[0].fitness\n",
    "        best_route.path = gene_pool[0].path\n",
    "        print(\"Best route: \" + str(best_route.path) + \" Distance: \" + str(\n",
    "            best_route.fitness))\n",
    "    else:\n",
    "        if gene_pool[0].fitness < best_route.fitness:\n",
    "            best_route.fitness = gene_pool[0].fitness\n",
    "            best_route.path = gene_pool[0].path\n",
    "            print(\"Best route: \" + str(best_route.path) + \" Distance: \" + str(\n",
    "                best_route.fitness))"
   ]
  },
  {
   "cell_type": "code",
   "execution_count": 3,
   "metadata": {},
   "outputs": [],
   "source": [
    "def main():\n",
    "    # reference_path = np.arange(0,locations)\n",
    "    DIST_LIST = initialise_map(NUMBER_OF_NODES)\n",
    "    # print(DIST_LIST)\n",
    "    # print(\"\\n *************** \\n\")\n",
    "    route_pool = create_init_pop(POPULATION_SIZE)\n",
    "    route_pool = calculate_fitness(route_pool, DIST_LIST)\n",
    "    check_completion(route_pool)\n",
    "    for gen in range(NUMBER_OF_GENERATIONS):\n",
    "        # print(\"Generation: \" + str(gen) + \"\\n\")\n",
    "        route_pool = selection(route_pool)\n",
    "        route_pool = crossover(route_pool)\n",
    "        route_pool = mutate(route_pool, 0.2)\n",
    "        calculate_fitness(route_pool, DIST_LIST)\n",
    "        check_completion(route_pool)\n",
    "    print(\"The most optimised route was: \" + str(\n",
    "        best_route.path\n",
    "        ) + \" distance covered: \" + str(best_route.fitness))"
   ]
  },
  {
   "cell_type": "code",
   "execution_count": 4,
   "metadata": {},
   "outputs": [
    {
     "ename": "NameError",
     "evalue": "name 'initialise_map' is not defined",
     "output_type": "error",
     "traceback": [
      "\u001b[0;31m---------------------------------------------------------------------------\u001b[0m",
      "\u001b[0;31mNameError\u001b[0m                                 Traceback (most recent call last)",
      "\u001b[0;32m<ipython-input-4-972361fa1b80>\u001b[0m in \u001b[0;36m<module>\u001b[0;34m\u001b[0m\n\u001b[1;32m      1\u001b[0m \u001b[0;32mif\u001b[0m \u001b[0m__name__\u001b[0m \u001b[0;34m==\u001b[0m \u001b[0;34m\"__main__\"\u001b[0m\u001b[0;34m:\u001b[0m\u001b[0;34m\u001b[0m\u001b[0;34m\u001b[0m\u001b[0m\n\u001b[0;32m----> 2\u001b[0;31m     \u001b[0mmain\u001b[0m\u001b[0;34m(\u001b[0m\u001b[0;34m)\u001b[0m\u001b[0;34m\u001b[0m\u001b[0;34m\u001b[0m\u001b[0m\n\u001b[0m",
      "\u001b[0;32m<ipython-input-3-5c9889ac0c46>\u001b[0m in \u001b[0;36mmain\u001b[0;34m()\u001b[0m\n\u001b[1;32m      1\u001b[0m \u001b[0;32mdef\u001b[0m \u001b[0mmain\u001b[0m\u001b[0;34m(\u001b[0m\u001b[0;34m)\u001b[0m\u001b[0;34m:\u001b[0m\u001b[0;34m\u001b[0m\u001b[0;34m\u001b[0m\u001b[0m\n\u001b[1;32m      2\u001b[0m     \u001b[0;31m# reference_path = np.arange(0,locations)\u001b[0m\u001b[0;34m\u001b[0m\u001b[0;34m\u001b[0m\u001b[0;34m\u001b[0m\u001b[0m\n\u001b[0;32m----> 3\u001b[0;31m     \u001b[0mDIST_LIST\u001b[0m \u001b[0;34m=\u001b[0m \u001b[0minitialise_map\u001b[0m\u001b[0;34m(\u001b[0m\u001b[0mNUMBER_OF_NODES\u001b[0m\u001b[0;34m)\u001b[0m\u001b[0;34m\u001b[0m\u001b[0;34m\u001b[0m\u001b[0m\n\u001b[0m\u001b[1;32m      4\u001b[0m     \u001b[0;31m# print(DIST_LIST)\u001b[0m\u001b[0;34m\u001b[0m\u001b[0;34m\u001b[0m\u001b[0;34m\u001b[0m\u001b[0m\n\u001b[1;32m      5\u001b[0m     \u001b[0;31m# print(\"\\n *************** \\n\")\u001b[0m\u001b[0;34m\u001b[0m\u001b[0;34m\u001b[0m\u001b[0;34m\u001b[0m\u001b[0m\n",
      "\u001b[0;31mNameError\u001b[0m: name 'initialise_map' is not defined"
     ]
    }
   ],
   "source": [
    "if __name__ == \"__main__\":\n",
    "    main()"
   ]
  },
  {
   "cell_type": "code",
   "execution_count": null,
   "metadata": {},
   "outputs": [],
   "source": []
  }
 ],
 "metadata": {
  "kernelspec": {
   "display_name": "Python 3",
   "language": "python",
   "name": "python3"
  },
  "language_info": {
   "codemirror_mode": {
    "name": "ipython",
    "version": 3
   },
   "file_extension": ".py",
   "mimetype": "text/x-python",
   "name": "python",
   "nbconvert_exporter": "python",
   "pygments_lexer": "ipython3",
   "version": "3.7.4"
  }
 },
 "nbformat": 4,
 "nbformat_minor": 2
}
